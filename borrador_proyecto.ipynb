{
 "metadata": {
  "language_info": {
   "codemirror_mode": {
    "name": "ipython",
    "version": 3
   },
   "file_extension": ".py",
   "mimetype": "text/x-python",
   "name": "python",
   "nbconvert_exporter": "python",
   "pygments_lexer": "ipython3",
   "version": "3.8.3-final"
  },
  "orig_nbformat": 2,
  "kernelspec": {
   "name": "python3",
   "display_name": "Python 3",
   "language": "python"
  }
 },
 "nbformat": 4,
 "nbformat_minor": 2,
 "cells": [
  {
   "cell_type": "code",
   "execution_count": 1,
   "metadata": {},
   "outputs": [],
   "source": [
    "import matplotlib.pyplot as plt\n",
    "import seaborn as sns\n",
    "import numpy as np\n",
    "import scipy as sp\n",
    "import random\n",
    "import time\n",
    "from matplotlib.animation import FuncAnimation\n",
    "from IPython.display import HTML\n",
    "\n",
    "import pandas as pd # esto para poner tablas numericas"
   ]
  },
  {
   "source": [
    "$$ |\\psi_0(x)|^2 = \\frac{1}{Z}\\lim_{\\tau\\to\\infty}\\int e^{-\\varepsilon\\mathcal{E}}dx_1\\cdots dx_{N-1} $$\n",
    "$$ Z = \\lim_{\\tau\\to\\infty}\\int e^{-\\varepsilon\\mathcal{E}}dx dx_1\\cdots dx_{N-1} $$\n",
    "\n",
    "con $$\\mathcal{P} = e^{-\\varepsilon\\mathcal{E}} = e^{-\\mathcal{E} / k_B T}, \\quad \\Longrightarrow \\quad k_B T = \\frac{1}{\\varepsilon} \\equiv \\frac{\\hbar}{\\varepsilon} $$"
   ],
   "cell_type": "markdown",
   "metadata": {}
  },
  {
   "cell_type": "code",
   "execution_count": null,
   "metadata": {},
   "outputs": [],
   "source": [
    "N = 100 ; eps = 0.1\n",
    "M = 101 ; delta = 0.1\n",
    "\n",
    "time_grid = eps*np.arange(N+1)\n"
   ]
  },
  {
   "cell_type": "code",
   "execution_count": null,
   "metadata": {},
   "outputs": [],
   "source": [
    "def V(x): return x**2 / 2\n",
    "\n",
    "def mean_energy(x, m, eps):\n",
    "    \"\"\"\n",
    "    x:      Path de largo N+1\n",
    "    ----\n",
    "    return:\n",
    "    E:      Energia promedio aproximada del camino \n",
    "    \"\"\"\n",
    "\n",
    "    T = 0 ; V = 0\n",
    "    for j in range(1, len(x)):\n",
    "        T += ((x[j] - x[j-1]) / eps)**2\n",
    "        V += V((x[j] + x[j-1]) / 2)\n",
    "\n",
    "    return m*T / 2 + V\n",
    "\n",
    "\n"
   ]
  }
 ]
}